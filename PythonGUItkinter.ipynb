{
 "cells": [
  {
   "cell_type": "raw",
   "id": "61c0c3dc-e07c-449a-8fae-41e5dbc6ff75",
   "metadata": {},
   "source": [
    "EVERY THING IS TWO STEP PROCESS 1)FIRST CREATE IT AND THEN 2)DEPLOY ON SCREEN"
   ]
  },
  {
   "cell_type": "code",
   "execution_count": null,
   "id": "abf788d2-112a-42bc-ba96-2682d73d884c",
   "metadata": {},
   "outputs": [],
   "source": [
    "from tkinter import *\n",
    "root=Tk()#This line creates the main window or the root window for our Tkinter application.\n",
    "myLabel1=Label(root,text=\"hello world!\")#creating a label widget\n",
    "myLabel1.pack()#shoving on to the screen automatically adjusting sides \n",
    "root.mainloop()"
   ]
  },
  {
   "cell_type": "raw",
   "id": "d66dbd19-a1b0-48b0-9978-40b8544cfb10",
   "metadata": {},
   "source": [
    "ADJUSTING THE BOX DONE BY PACK() IN PREVIOUS CODE BY OURSELVES USING GRID()"
   ]
  },
  {
   "cell_type": "code",
   "execution_count": 16,
   "id": "03c18072-25b8-4f63-9a1f-9f1818b406d7",
   "metadata": {},
   "outputs": [],
   "source": [
    "from tkinter import *\n",
    "root=Tk()\n",
    "myLabel1=Label(root,text=\"hello world!\").grid(row=0,column=0)\n",
    "myLabel2=Label(root,text=\"my name is yuvraj\").grid(row=1,column=1)\n",
    "#myLabel1.grid(row=0,column=0)#showing onto screen by adjusting rows and columns\n",
    "#myLabel2.grid(row=1,column=1)\n",
    "#grids are relative to each other for ex (row=1 column=6) will give same result because nothing in between\n",
    "root.mainloop()"
   ]
  },
  {
   "cell_type": "raw",
   "id": "1c99dcdc-451a-4948-a5b9-3225e7cfebe0",
   "metadata": {},
   "source": [
    "CREATING A BUTTON WIDGET"
   ]
  },
  {
   "cell_type": "code",
   "execution_count": 38,
   "id": "a88aaaaf-d40a-4fb3-9870-cf3028cb971b",
   "metadata": {},
   "outputs": [],
   "source": [
    "root=Tk()\n",
    "myButton=Button(root,text=\"click me\",state=DISABLED,padx=50,pady=50,borderwidth=7).pack()#STATE IS OPTIONAL \n",
    "#pad is used for size of button x is horizontal and y is vertical \n",
    "root.mainloop()"
   ]
  },
  {
   "cell_type": "raw",
   "id": "e9e259fe-a7f1-4a74-bdf1-d026f5ae86b0",
   "metadata": {},
   "source": [
    "ATTACHING A FUNCTION WITH BUTTON"
   ]
  },
  {
   "cell_type": "code",
   "execution_count": 34,
   "id": "b42b9560-7798-4c38-9d36-7b0ee0d9ed54",
   "metadata": {},
   "outputs": [],
   "source": [
    "root=Tk()\n",
    "def onClick():\n",
    "    myLabel=Label(root,text=\"i Clicked the button\").pack()\n",
    "myButton2=Button(root,text=\"click me\",padx=30,pady=30,state=ACTIVE,command=onClick,fg='red',bg='yellow').pack()\n",
    "root.mainloop()\n",
    "#if want to change color on click\n",
    "#def changeColor():\n",
    " #   myButton2.config(fg='blue', bg='green')"
   ]
  },
  {
   "cell_type": "raw",
   "id": "280961dd-2d75-4390-9de5-58720daca1a7",
   "metadata": {},
   "source": [
    "CREATING A INPUT WIDGET BY USING ENTRY WIDGET"
   ]
  },
  {
   "cell_type": "code",
   "execution_count": 57,
   "id": "27b1b4a0-2ca9-4ccc-808b-adfd4ef92c5d",
   "metadata": {},
   "outputs": [],
   "source": [
    "root=Tk()\n",
    "e=Entry(root,width=50,fg='red',bg='yellow',borderwidth=1)\n",
    "e.pack()\n",
    "def onCli():\n",
    "    myLabel3=Label(root,text=e.get(),fg='blue',font=10).pack()\n",
    "myButton=Button(root,text=\"submit\",padx=5,pady=5,command=onCli,fg='yellow',bg='red').pack()\n",
    "root.mainloop()\n",
    "\n",
    "###NOTE::e=Entry(root,width=50,fg='red',bg='yellow',borderwidth=12).pack(), \n",
    "# the .pack() method is immediately called right after creating the Entry widget. \n",
    "# The .pack() method is used to display the widget on the window, but it returns None.\n",
    "# As a result, the variable e will be assigned the value None, not the reference to the Entry widget.\n",
    "#SO SOLUTION IS USE e.pack() on next line is used\n"
   ]
  },
  {
   "cell_type": "raw",
   "id": "1df45c1f-7fe6-4f0a-9df0-289bb691c590",
   "metadata": {},
   "source": [
    "CREATE A PROGRAM TO TAKE INPUT A NUMBER SHOW IT BY ADDING 10 TO IT "
   ]
  },
  {
   "cell_type": "code",
   "execution_count": 3,
   "id": "5069dd8f-62e8-433c-81cc-9acc6b812e6f",
   "metadata": {},
   "outputs": [],
   "source": [
    "from tkinter import *\n",
    "root=Tk()\n",
    "root.title(\"sum\")\n",
    "root.geometry(\"200x200\")\n",
    "e=Entry(root,width=50,fg='red',bg='yellow',borderwidth=1)\n",
    "e.insert(0,\"enter the number only\")\n",
    "e.pack()\n",
    "\n",
    "def onCli():\n",
    "    num1=int(e.get())+10\n",
    "    myLabel=Label(root,text=\"the sum is \"+str(num1),font=5,fg='red').pack()\n",
    "\n",
    "myButton=Button(root,padx=30,pady=30,text=\"submit\",fg='red',command=onCli).pack()\n",
    "root.mainloop()\n",
    "    "
   ]
  },
  {
   "cell_type": "raw",
   "id": "04159777-94f7-497f-84d7-2d4bcbc0d9eb",
   "metadata": {},
   "source": [
    "program to create a calculator"
   ]
  },
  {
   "cell_type": "code",
   "execution_count": 17,
   "id": "e818e195-3da9-49eb-97f2-220721f4007e",
   "metadata": {},
   "outputs": [],
   "source": [
    "from tkinter import *\n",
    "root=Tk()\n",
    "root.title(\"CALCULATOR\")\n",
    "root.geometry(\"400x400\")\n",
    "\n",
    "r=Entry(root,width=60,borderwidth=5)\n",
    "r.grid(columnspan=3,row=0,column=0,padx=5,pady=5)\n",
    "\n",
    "def onClick(number):\n",
    "    current=str(r.get())\n",
    "   #print(current)\n",
    "    r.delete(0,END)\n",
    "    r.insert(0,str(current)+str(number))\n",
    "def cLear():\n",
    "    r.delete(0,END)\n",
    "def adds():\n",
    "    global numo\n",
    "    numo=r.get()\n",
    "    global opr\n",
    "    opr=\"addition\"\n",
    "    r.delete(0,END)\n",
    "def mul():\n",
    "    global numo\n",
    "    numo=r.get()\n",
    "    global opr\n",
    "    opr=\"multiplication\"\n",
    "    r.delete(0,END)\n",
    "    \n",
    "def div():\n",
    "    global numo\n",
    "    numo=r.get()\n",
    "    global opr\n",
    "    opr=\"division\"\n",
    "    r.delete(0,END)\n",
    "    \n",
    "def sub():\n",
    "    global numo\n",
    "    numo=r.get()\n",
    "    global opr\n",
    "    opr=\"subtraction\"\n",
    "    r.delete(0,END)\n",
    "    \n",
    "\n",
    "def EqualS():\n",
    "    secondnum=int(r.get())\n",
    "    r.delete(0,END)\n",
    "    if opr==\"addition\":\n",
    "        r.insert(0,int(numo)+secondnum)\n",
    "    elif opr==\"multiplication\":\n",
    "        r.insert(0,int(numo)*secondnum)\n",
    "    elif opr==\"division\":\n",
    "        r.insert(0,int(numo)/secondnum)\n",
    "    elif opr==\"subtraction\":\n",
    "        r.insert(0,int(numo)-secondnum)\n",
    "        \n",
    "   \n",
    "   \n",
    "   \n",
    "\n",
    "    \n",
    "    \n",
    "button1=Button(root,text=\"1\",padx=35,pady=15,command=lambda: onClick(1))\n",
    "button2=Button(root,text=\"2\",padx=35,pady=15,command=lambda: onClick(2))\n",
    "button3=Button(root,text=\"3\",padx=35,pady=15,command=lambda:onClick(3))\n",
    "button4=Button(root,text=\"4\",padx=35,pady=15,command=lambda:onClick(4))\n",
    "button5=Button(root,text=\"5\",padx=30,pady=15,command=lambda:onClick(5))\n",
    "button6=Button(root,text=\"6\",padx=30,pady=15,command=lambda:onClick(6))\n",
    "button7=Button(root,text=\"7\",padx=30,pady=15,command=lambda:onClick(7))\n",
    "button8=Button(root,text=\"8\",padx=30,pady=15,command=lambda:onClick(8))\n",
    "button9=Button(root,text=\"9\",padx=30,pady=15,command=lambda:onClick(9))\n",
    "button0=Button(root,text=\"0\",padx=30,pady=15,command=lambda:onClick(0))\n",
    "buttonequal=Button(root,text=\"=\",padx=90,pady=15,command=EqualS)\n",
    "buttonclear=Button(root,text=\"c\",padx=50,pady=15,command=cLear)\n",
    "buttonadd=Button(root,text=\"+\",padx=20,pady=15,command=adds)\n",
    "buttonsub=Button(root,text=\"-\",padx=20,pady=15,command=sub)\n",
    "buttonmul=Button(root,text=\"*\",padx=20,pady=15,command=mul)\n",
    "buttondiv=Button(root,text=\"/\",padx=20,pady=15,command=div)\n",
    "button1.grid(column=0,row=1)\n",
    "button2.grid(column=1,row=1)\n",
    "button3.grid(column=2,row=1)\n",
    "button4.grid(column=0,row=2)\n",
    "button5.grid(column=1,row=2)\n",
    "button6.grid(column=2,row=2)\n",
    "button7.grid(column=0,row=3)\n",
    "button8.grid(column=1,row=3)\n",
    "button9.grid(column=2,row=3)\n",
    "button0.grid(column=0,row=4)\n",
    "buttonsub.grid(column=1,row=4)\n",
    "buttonclear.grid(column=2,row=4)\n",
    "buttonadd.grid(column=0,row=5)\n",
    "buttonmul.grid(column=1,row=5)\n",
    "buttondiv.grid(column=2,row=5)\n",
    "buttonequal.grid(row=6)\n",
    "root.mainloop()"
   ]
  }
 ],
 "metadata": {
  "kernelspec": {
   "display_name": "Python 3 (ipykernel)",
   "language": "python",
   "name": "python3"
  },
  "language_info": {
   "codemirror_mode": {
    "name": "ipython",
    "version": 3
   },
   "file_extension": ".py",
   "mimetype": "text/x-python",
   "name": "python",
   "nbconvert_exporter": "python",
   "pygments_lexer": "ipython3",
   "version": "3.11.1"
  }
 },
 "nbformat": 4,
 "nbformat_minor": 5
}
