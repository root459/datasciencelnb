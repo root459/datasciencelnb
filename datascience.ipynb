{
 "cells": [
  {
   "cell_type": "raw",
   "id": "8509abdd-9904-4c94-a21a-19747a97518a",
   "metadata": {},
   "source": [
    "TASK 1 DIFFERENCE BW PROCEDURAL PROGRAMMING VS OOPs pROGRAMMING"
   ]
  },
  {
   "cell_type": "markdown",
   "id": "1b9a17b6-57da-4e23-b3fd-353ddddd5eb1",
   "metadata": {},
   "source": [
    "In procedural programming, the program is divided into small parts called functions.\tIn object-oriented programming, the program is divided into small                                                                                           parts called objects.\r\n",
    "Procedural programming follows a top-down approach                                 .\tObject-oriented programming follows a bottom-up approach.\r\n",
    "There is no access specifier in procedural programmin                              g.\tObject-oriented programming has access specifiers like private                                                                                           , public, protected, etc.\r\n",
    "Adding new data and functions is not eas                                             y.\tAdding new data and function is easy.\r\n",
    "Procedural programming does not have any proper way of hiding data so it is less secure.\tObject-oriented programming provides data hiding so it is m                                                                                            ore secure.\r\n",
    "In procedural programming, overloading is not poss                                  ible.\tOverloading is possible in object-oriented programming.\r\n",
    "In procedural programming, there is no concept of data hiding and inherit           ance.\tIn object-oriented programming, the concept of data hidin                                                                                             g and inheritance is used.\r\n",
    "In procedural programming, the function is more important than th                 e data.\tIn object-oriented programming, data is more importan                                                                                                t than function.\r\n",
    "Procedural programming is based on the unreal                                     world.\tObject-oriented programming is based on the real world.\r\n",
    "Procedural programming is used for designing medium-sized                  programs.\tObject-oriented programming is used for designing l                                                                                               arge and complex programs.\r\n",
    "Procedural programming uses the concept of procedure abs                   traction.\tObject-oriented programming uses the concept of data abstraction.\r\n",
    "Code reusability absent in procedural pr                                         ogramming,\tCode reusability present in object-oriented programming.\r\n",
    "Examples: C, FORTRAN, Pascal,                                                        Basic, etc.\tExamples: C++, Java, Python, C#, etc."
   ]
  },
  {
   "cell_type": "code",
   "execution_count": 1,
   "id": "d04f5ae1-efdb-4a88-9c1b-6f853a30bef4",
   "metadata": {},
   "outputs": [
    {
     "name": "stdout",
     "output_type": "stream",
     "text": [
      "hello\n"
     ]
    }
   ],
   "source": [
    "print(\"hello\")"
   ]
  },
  {
   "cell_type": "code",
   "execution_count": 1,
   "id": "c87e4568-89d9-46d5-b7e0-bf92adaa4209",
   "metadata": {},
   "outputs": [
    {
     "data": {
      "text/plain": [
       "int"
      ]
     },
     "execution_count": 1,
     "metadata": {},
     "output_type": "execute_result"
    }
   ],
   "source": [
    "type(2)"
   ]
  },
  {
   "cell_type": "code",
   "execution_count": 2,
   "id": "a6ffdf7f-a8d7-4a59-a898-e2503a216dfa",
   "metadata": {},
   "outputs": [
    {
     "data": {
      "text/plain": [
       "float"
      ]
     },
     "execution_count": 2,
     "metadata": {},
     "output_type": "execute_result"
    }
   ],
   "source": [
    "type(2.5)"
   ]
  },
  {
   "cell_type": "code",
   "execution_count": 3,
   "id": "3f433d9b-967b-49c6-a3d7-db6b476c0f32",
   "metadata": {},
   "outputs": [],
   "source": [
    "x=3"
   ]
  },
  {
   "cell_type": "code",
   "execution_count": 4,
   "id": "298a74ad-e2a6-4ddd-9a21-2ff3a141ea03",
   "metadata": {},
   "outputs": [
    {
     "name": "stdout",
     "output_type": "stream",
     "text": [
      "hello\n"
     ]
    }
   ],
   "source": [
    "y=\"hello\"\n",
    "print(y)"
   ]
  },
  {
   "cell_type": "code",
   "execution_count": 6,
   "id": "44388475-822e-4520-bc05-9a6d21b5eb3e",
   "metadata": {},
   "outputs": [
    {
     "data": {
      "text/plain": [
       "NoneType"
      ]
     },
     "execution_count": 6,
     "metadata": {},
     "output_type": "execute_result"
    }
   ],
   "source": [
    "name=None\n",
    "type(name)"
   ]
  },
  {
   "cell_type": "code",
   "execution_count": 9,
   "id": "1b0e895f-02f8-4486-823f-285dcf0faa61",
   "metadata": {},
   "outputs": [
    {
     "data": {
      "text/plain": [
       "bool"
      ]
     },
     "execution_count": 9,
     "metadata": {},
     "output_type": "execute_result"
    }
   ],
   "source": [
    "x=False\n",
    "type(x)"
   ]
  },
  {
   "cell_type": "code",
   "execution_count": 8,
   "id": "bc16bdc7-e786-4f1e-b28b-637c030a5a58",
   "metadata": {},
   "outputs": [
    {
     "data": {
      "text/plain": [
       "'\"my name is \"yuvraj\"\"'"
      ]
     },
     "execution_count": 8,
     "metadata": {},
     "output_type": "execute_result"
    }
   ],
   "source": [
    "'''\"my name is \"yuvraj\"\"'''"
   ]
  },
  {
   "cell_type": "code",
   "execution_count": 13,
   "id": "f16e62fb-72e4-4556-80b5-1e382fe1ee10",
   "metadata": {},
   "outputs": [
    {
     "name": "stdout",
     "output_type": "stream",
     "text": [
      "1\n"
     ]
    },
    {
     "data": {
      "text/plain": [
       "list"
      ]
     },
     "execution_count": 13,
     "metadata": {},
     "output_type": "execute_result"
    }
   ],
   "source": [
    "li=[1,2,3,'yuv',5]\n",
    "print(li[0])\n",
    "type(li)"
   ]
  },
  {
   "cell_type": "code",
   "execution_count": 25,
   "id": "ae3c3144-a10b-48c9-af89-daa6ea336521",
   "metadata": {},
   "outputs": [
    {
     "name": "stdout",
     "output_type": "stream",
     "text": [
      "[1, 2, 3, 4]\n",
      "[1, 2, 4, 5, 56, 6, 'u', 'f', 'd', 'p', 'p', 'q']\n"
     ]
    },
    {
     "data": {
      "text/plain": [
       "[1, 4, 56, 'u', 'd', 'p']"
      ]
     },
     "execution_count": 25,
     "metadata": {},
     "output_type": "execute_result"
    }
   ],
   "source": [
    "dfy=[1,2,3,4,5,56,6,\"u\",'f','d']\n",
    "dfy.append('p')\n",
    "dfy.extend(['p','q'])\n",
    "dfy.insert(2,3)\n",
    "dfy.remove(3) #removes value by the value \n",
    "dfy.pop(2)#removes and return the value by index\n",
    "gt=[1,2,3,4,5]\n",
    "del(gt[4])#delete without returning value by index\n",
    "print(gt)\n",
    "print(dfy)\n",
    "del(dfy[1::2])#delete alternately \n",
    "#gt.clear()#remvoes all elments at a go\n",
    "print(dfy)\n",
    "\n",
    "          "
   ]
  },
  {
   "cell_type": "code",
   "execution_count": 28,
   "id": "0a5abd60-ca10-488e-8c01-ae4cbe228e33",
   "metadata": {},
   "outputs": [
    {
     "data": {
      "text/plain": [
       "[1, 2, 3, 4]"
      ]
     },
     "execution_count": 28,
     "metadata": {},
     "output_type": "execute_result"
    }
   ],
   "source": [
    "#create a program to mangae the students marks and attendance for a college.\n",
    "piet2sem=[\"ayush\",[1,gt,3]]\n",
    "piet2sem[1][1]"
   ]
  },
  {
   "cell_type": "code",
   "execution_count": 32,
   "id": "3af5baff-e116-4c7b-91b9-b6b9595b66cf",
   "metadata": {},
   "outputs": [
    {
     "name": "stdin",
     "output_type": "stream",
     "text": [
      "enter the name A\n",
      "enter the marks 34\n",
      "enter the attendance 45\n",
      "enter the name C\n",
      "enter the marks 45\n",
      "enter the attendance 67\n",
      "enter the name V\n",
      "enter the marks 56\n",
      "enter the attendance 78\n",
      "enter the name B\n",
      "enter the marks 78\n",
      "enter the attendance 89\n"
     ]
    },
    {
     "data": {
      "text/plain": [
       "[['A', 34, 45], ['C', 45, 67], ['V', 56, 78], ['B', 78, 89]]"
      ]
     },
     "execution_count": 32,
     "metadata": {},
     "output_type": "execute_result"
    }
   ],
   "source": [
    "v=[]\n",
    "for i in range(4):\n",
    "    v.append([input(\"enter the name\"),int(input(\"enter the marks\")),int(input(\"enter the attendance\"))])\n",
    "print(v)"
   ]
  },
  {
   "cell_type": "code",
   "execution_count": 3,
   "id": "ea5b4191-424c-46c8-b309-6327588fc4fd",
   "metadata": {},
   "outputs": [
    {
     "name": "stdout",
     "output_type": "stream",
     "text": [
      "[7, 6, 5, 4, 3, 2, 1]\n"
     ]
    },
    {
     "data": {
      "text/plain": [
       "[1, 2, 3, 4, 5, 6, 7]"
      ]
     },
     "execution_count": 3,
     "metadata": {},
     "output_type": "execute_result"
    }
   ],
   "source": [
    "list12=[1,2,3,4,5,6,7]\n",
    "list12.reverse()\n",
    "print(list12)\n",
    "list12.sort()\n",
    "list12\n"
   ]
  },
  {
   "cell_type": "code",
   "execution_count": 10,
   "id": "20b04bb4-7b93-46ca-acde-583547733f9d",
   "metadata": {},
   "outputs": [
    {
     "name": "stdout",
     "output_type": "stream",
     "text": [
      "HELLO@2123 Hello@2123\n"
     ]
    }
   ],
   "source": [
    "#string datatype \n",
    "x='Hello@2123'\n",
    "bk=x.upper()#temporary view not change original string\n",
    "print(bk,x)\n",
    "bk+x#concatenation of string\n",
    "\n",
    "\n",
    "#list,string,tuples are sequential\n",
    "\n"
   ]
  },
  {
   "cell_type": "code",
   "execution_count": 43,
   "id": "49d6896c-7940-42b1-afc7-804c6d9ec1b9",
   "metadata": {},
   "outputs": [
    {
     "name": "stdout",
     "output_type": "stream",
     "text": [
      "{1, 2, 3, 4, 5, 'hello', 6, 7, 'b', 'a'}\n",
      "{1, 2, 4, 5, 'hello', 'b', 'a'}\n",
      "{1, 2, 3}\n"
     ]
    },
    {
     "data": {
      "text/plain": [
       "set"
      ]
     },
     "execution_count": 43,
     "metadata": {},
     "output_type": "execute_result"
    }
   ],
   "source": [
    "#in sets cannot be indexed no fixed index\n",
    "reg={1,2,3,4,5}  #set declaration\n",
    "reg.add(6)\n",
    "reg.remove(6)\n",
    "reg.update({'a','b',\"hello\"})#change the original set\n",
    "npk=reg.union({6,7})#does not change the original sets\n",
    "print(npk)\n",
    "reg.remove(3)\n",
    "print(reg)\n",
    "reg.pop()#pop takes no argument and return the removed value from starting \n",
    "reg\n",
    "x=set()#empty set\n",
    "type(x)\n",
    "z=set([1,2,3])\n",
    "print(z)\n"
   ]
  },
  {
   "cell_type": "code",
   "execution_count": 49,
   "id": "8a9fd40c-bbd0-420a-852e-06084be25ba9",
   "metadata": {},
   "outputs": [
    {
     "name": "stdout",
     "output_type": "stream",
     "text": [
      "{'one': 2, 'two': 4, (12, 13): 5, 'maths': [1, 2, 3, 4]}\n",
      "2\n",
      "{'one': 2, 'two': 4, (12, 13): 5, 'maths': [1, 2, 3, 4], 'science': [1, 2, 3, 4]}\n",
      "{'one': 2, 'two': 4, (12, 13): 5, 'maths': [1, 2, 3, 4], 'science': [2, 6, 8, 9]}\n"
     ]
    }
   ],
   "source": [
    "#dictionary=>key value pairs\n",
    "stu={\n",
    "    'one':2,\n",
    "    'two':4,\n",
    "    (12,13):5,\n",
    "'maths':[1,2,3,4]\n",
    "}\n",
    "print(stu)\n",
    "print(stu['one'])#using key accessing value\n",
    "#key should be unique but value can be duplicate\n",
    "#if duplicate key is used then the recent key value pair will replace the old value\n",
    "#tuple can be used as key because it is immutable.only immutable datatype can be used as keys\n",
    "#search time is constant faster than list but sorting is not efficient\n",
    "stu['science']=[1,2,3,4]#add new key value pair in dictionary\n",
    "print(stu)\n",
    "stu['science']=[2,6,8,9]#we can change values also of associated key\n",
    "print(stu)\n",
    "ml flow apache spark\n",
    "\n"
   ]
  },
  {
   "cell_type": "raw",
   "id": "e78a466c-0734-43a2-b141-ac99bf72ef8d",
   "metadata": {},
   "source": [
    "DDL(data definition language)\n",
    " create \n",
    " alter\n",
    " drop \n",
    " truncate\n",
    "DML(data manipulation language)\n",
    " Insert \n",
    " update \n",
    " delete\n",
    "DCL(data control language)\n",
    " grant \n",
    " revoke\n",
    "TCL(transaction control language)\n",
    " commit \n",
    " rollback\n",
    "DQL(data query language)"
   ]
  },
  {
   "cell_type": "code",
   "execution_count": 2,
   "id": "1df5aa52-0ce9-4e4b-b21c-340be480684a",
   "metadata": {},
   "outputs": [
    {
     "name": "stdout",
     "output_type": "stream",
     "text": [
      "Error connecting to the database: 2003 (HY000): Can't connect to MySQL server on '20.204.3.99:3306' (10060)\n"
     ]
    }
   ],
   "source": [
    "import mysql.connector\n",
    "\n",
    "# Replace these values with your actual database information\n",
    "host = \"20.204.3.99\"  # Database host\n",
    "user = \"YTHOR\"  # Database username\n",
    "password = \"Yuvraj9983318185\"  # Database password\n",
    "database = \"user1\"  # Database name\n",
    "\n",
    "try:\n",
    "    # Create a connection to the database\n",
    "    connection = mysql.connector.connect(\n",
    "        host=host,\n",
    "        user=user,\n",
    "        password=password,\n",
    "        database=database\n",
    "    )\n",
    "\n",
    "    if connection.is_connected():\n",
    "        print(\"Connected to the database\")\n",
    "\n",
    "        # Perform database operations here\n",
    "\n",
    "except mysql.connector.Error as e:\n",
    "    print(\"Error connecting to the database:\", e)\n",
    "\n",
    "finally:\n",
    "    # Close the connection when done\n",
    "    if 'connection' in locals():\n",
    "        connection.close()\n",
    "        print(\"Connection closed\")\n"
   ]
  },
  {
   "cell_type": "raw",
   "id": "4534e712-9645-419d-aa46-194f7de014e6",
   "metadata": {},
   "source": [
    "homogeneous should be by size not by data type in numpy"
   ]
  },
  {
   "cell_type": "code",
   "execution_count": 4,
   "id": "f6ebb483-933c-45ea-8421-869f2cd70290",
   "metadata": {},
   "outputs": [],
   "source": [
    "import numpy as np"
   ]
  },
  {
   "cell_type": "code",
   "execution_count": 5,
   "id": "d4c2cbbf-bed1-482c-b0d3-9c40cd41b16e",
   "metadata": {},
   "outputs": [
    {
     "data": {
      "text/plain": [
       "['ALLOW_THREADS',\n",
       " 'BUFSIZE',\n",
       " 'CLIP',\n",
       " 'DataSource',\n",
       " 'ERR_CALL',\n",
       " 'ERR_DEFAULT',\n",
       " 'ERR_IGNORE',\n",
       " 'ERR_LOG',\n",
       " 'ERR_PRINT',\n",
       " 'ERR_RAISE',\n",
       " 'ERR_WARN',\n",
       " 'FLOATING_POINT_SUPPORT',\n",
       " 'FPE_DIVIDEBYZERO',\n",
       " 'FPE_INVALID',\n",
       " 'FPE_OVERFLOW',\n",
       " 'FPE_UNDERFLOW',\n",
       " 'False_',\n",
       " 'Inf',\n",
       " 'Infinity',\n",
       " 'MAXDIMS',\n",
       " 'MAY_SHARE_BOUNDS',\n",
       " 'MAY_SHARE_EXACT',\n",
       " 'NAN',\n",
       " 'NINF',\n",
       " 'NZERO',\n",
       " 'NaN',\n",
       " 'PINF',\n",
       " 'PZERO',\n",
       " 'RAISE',\n",
       " 'RankWarning',\n",
       " 'SHIFT_DIVIDEBYZERO',\n",
       " 'SHIFT_INVALID',\n",
       " 'SHIFT_OVERFLOW',\n",
       " 'SHIFT_UNDERFLOW',\n",
       " 'ScalarType',\n",
       " 'True_',\n",
       " 'UFUNC_BUFSIZE_DEFAULT',\n",
       " 'UFUNC_PYVALS_NAME',\n",
       " 'WRAP',\n",
       " '_CopyMode',\n",
       " '_NoValue',\n",
       " '_UFUNC_API',\n",
       " '__NUMPY_SETUP__',\n",
       " '__all__',\n",
       " '__builtins__',\n",
       " '__cached__',\n",
       " '__config__',\n",
       " '__deprecated_attrs__',\n",
       " '__dir__',\n",
       " '__doc__',\n",
       " '__expired_functions__',\n",
       " '__file__',\n",
       " '__former_attrs__',\n",
       " '__future_scalars__',\n",
       " '__getattr__',\n",
       " '__git_version__',\n",
       " '__loader__',\n",
       " '__name__',\n",
       " '__package__',\n",
       " '__path__',\n",
       " '__spec__',\n",
       " '__version__',\n",
       " '_add_newdoc_ufunc',\n",
       " '_builtins',\n",
       " '_distributor_init',\n",
       " '_financial_names',\n",
       " '_get_promotion_state',\n",
       " '_globals',\n",
       " '_int_extended_msg',\n",
       " '_mat',\n",
       " '_no_nep50_warning',\n",
       " '_pyinstaller_hooks_dir',\n",
       " '_pytesttester',\n",
       " '_set_promotion_state',\n",
       " '_specific_msg',\n",
       " '_typing',\n",
       " '_using_numpy2_behavior',\n",
       " '_utils',\n",
       " '_version',\n",
       " 'abs',\n",
       " 'absolute',\n",
       " 'add',\n",
       " 'add_docstring',\n",
       " 'add_newdoc',\n",
       " 'add_newdoc_ufunc',\n",
       " 'all',\n",
       " 'allclose',\n",
       " 'alltrue',\n",
       " 'amax',\n",
       " 'amin',\n",
       " 'angle',\n",
       " 'any',\n",
       " 'append',\n",
       " 'apply_along_axis',\n",
       " 'apply_over_axes',\n",
       " 'arange',\n",
       " 'arccos',\n",
       " 'arccosh',\n",
       " 'arcsin',\n",
       " 'arcsinh',\n",
       " 'arctan',\n",
       " 'arctan2',\n",
       " 'arctanh',\n",
       " 'argmax',\n",
       " 'argmin',\n",
       " 'argpartition',\n",
       " 'argsort',\n",
       " 'argwhere',\n",
       " 'around',\n",
       " 'array',\n",
       " 'array2string',\n",
       " 'array_equal',\n",
       " 'array_equiv',\n",
       " 'array_repr',\n",
       " 'array_split',\n",
       " 'array_str',\n",
       " 'asanyarray',\n",
       " 'asarray',\n",
       " 'asarray_chkfinite',\n",
       " 'ascontiguousarray',\n",
       " 'asfarray',\n",
       " 'asfortranarray',\n",
       " 'asmatrix',\n",
       " 'atleast_1d',\n",
       " 'atleast_2d',\n",
       " 'atleast_3d',\n",
       " 'average',\n",
       " 'bartlett',\n",
       " 'base_repr',\n",
       " 'binary_repr',\n",
       " 'bincount',\n",
       " 'bitwise_and',\n",
       " 'bitwise_not',\n",
       " 'bitwise_or',\n",
       " 'bitwise_xor',\n",
       " 'blackman',\n",
       " 'block',\n",
       " 'bmat',\n",
       " 'bool_',\n",
       " 'broadcast',\n",
       " 'broadcast_arrays',\n",
       " 'broadcast_shapes',\n",
       " 'broadcast_to',\n",
       " 'busday_count',\n",
       " 'busday_offset',\n",
       " 'busdaycalendar',\n",
       " 'byte',\n",
       " 'byte_bounds',\n",
       " 'bytes_',\n",
       " 'c_',\n",
       " 'can_cast',\n",
       " 'cast',\n",
       " 'cbrt',\n",
       " 'cdouble',\n",
       " 'ceil',\n",
       " 'cfloat',\n",
       " 'char',\n",
       " 'character',\n",
       " 'chararray',\n",
       " 'choose',\n",
       " 'clip',\n",
       " 'clongdouble',\n",
       " 'clongfloat',\n",
       " 'column_stack',\n",
       " 'common_type',\n",
       " 'compare_chararrays',\n",
       " 'compat',\n",
       " 'complex128',\n",
       " 'complex64',\n",
       " 'complex_',\n",
       " 'complexfloating',\n",
       " 'compress',\n",
       " 'concatenate',\n",
       " 'conj',\n",
       " 'conjugate',\n",
       " 'convolve',\n",
       " 'copy',\n",
       " 'copysign',\n",
       " 'copyto',\n",
       " 'corrcoef',\n",
       " 'correlate',\n",
       " 'cos',\n",
       " 'cosh',\n",
       " 'count_nonzero',\n",
       " 'cov',\n",
       " 'cross',\n",
       " 'csingle',\n",
       " 'ctypeslib',\n",
       " 'cumprod',\n",
       " 'cumproduct',\n",
       " 'cumsum',\n",
       " 'datetime64',\n",
       " 'datetime_as_string',\n",
       " 'datetime_data',\n",
       " 'deg2rad',\n",
       " 'degrees',\n",
       " 'delete',\n",
       " 'deprecate',\n",
       " 'deprecate_with_doc',\n",
       " 'diag',\n",
       " 'diag_indices',\n",
       " 'diag_indices_from',\n",
       " 'diagflat',\n",
       " 'diagonal',\n",
       " 'diff',\n",
       " 'digitize',\n",
       " 'disp',\n",
       " 'divide',\n",
       " 'divmod',\n",
       " 'dot',\n",
       " 'double',\n",
       " 'dsplit',\n",
       " 'dstack',\n",
       " 'dtype',\n",
       " 'dtypes',\n",
       " 'e',\n",
       " 'ediff1d',\n",
       " 'einsum',\n",
       " 'einsum_path',\n",
       " 'emath',\n",
       " 'empty',\n",
       " 'empty_like',\n",
       " 'equal',\n",
       " 'errstate',\n",
       " 'euler_gamma',\n",
       " 'exceptions',\n",
       " 'exp',\n",
       " 'exp2',\n",
       " 'expand_dims',\n",
       " 'expm1',\n",
       " 'extract',\n",
       " 'eye',\n",
       " 'fabs',\n",
       " 'fastCopyAndTranspose',\n",
       " 'fft',\n",
       " 'fill_diagonal',\n",
       " 'find_common_type',\n",
       " 'finfo',\n",
       " 'fix',\n",
       " 'flatiter',\n",
       " 'flatnonzero',\n",
       " 'flexible',\n",
       " 'flip',\n",
       " 'fliplr',\n",
       " 'flipud',\n",
       " 'float16',\n",
       " 'float32',\n",
       " 'float64',\n",
       " 'float_',\n",
       " 'float_power',\n",
       " 'floating',\n",
       " 'floor',\n",
       " 'floor_divide',\n",
       " 'fmax',\n",
       " 'fmin',\n",
       " 'fmod',\n",
       " 'format_float_positional',\n",
       " 'format_float_scientific',\n",
       " 'format_parser',\n",
       " 'frexp',\n",
       " 'from_dlpack',\n",
       " 'frombuffer',\n",
       " 'fromfile',\n",
       " 'fromfunction',\n",
       " 'fromiter',\n",
       " 'frompyfunc',\n",
       " 'fromregex',\n",
       " 'fromstring',\n",
       " 'full',\n",
       " 'full_like',\n",
       " 'gcd',\n",
       " 'generic',\n",
       " 'genfromtxt',\n",
       " 'geomspace',\n",
       " 'get_array_wrap',\n",
       " 'get_include',\n",
       " 'get_printoptions',\n",
       " 'getbufsize',\n",
       " 'geterr',\n",
       " 'geterrcall',\n",
       " 'geterrobj',\n",
       " 'gradient',\n",
       " 'greater',\n",
       " 'greater_equal',\n",
       " 'half',\n",
       " 'hamming',\n",
       " 'hanning',\n",
       " 'heaviside',\n",
       " 'histogram',\n",
       " 'histogram2d',\n",
       " 'histogram_bin_edges',\n",
       " 'histogramdd',\n",
       " 'hsplit',\n",
       " 'hstack',\n",
       " 'hypot',\n",
       " 'i0',\n",
       " 'identity',\n",
       " 'iinfo',\n",
       " 'imag',\n",
       " 'in1d',\n",
       " 'index_exp',\n",
       " 'indices',\n",
       " 'inexact',\n",
       " 'inf',\n",
       " 'info',\n",
       " 'infty',\n",
       " 'inner',\n",
       " 'insert',\n",
       " 'int16',\n",
       " 'int32',\n",
       " 'int64',\n",
       " 'int8',\n",
       " 'int_',\n",
       " 'intc',\n",
       " 'integer',\n",
       " 'interp',\n",
       " 'intersect1d',\n",
       " 'intp',\n",
       " 'invert',\n",
       " 'is_busday',\n",
       " 'isclose',\n",
       " 'iscomplex',\n",
       " 'iscomplexobj',\n",
       " 'isfinite',\n",
       " 'isfortran',\n",
       " 'isin',\n",
       " 'isinf',\n",
       " 'isnan',\n",
       " 'isnat',\n",
       " 'isneginf',\n",
       " 'isposinf',\n",
       " 'isreal',\n",
       " 'isrealobj',\n",
       " 'isscalar',\n",
       " 'issctype',\n",
       " 'issubclass_',\n",
       " 'issubdtype',\n",
       " 'issubsctype',\n",
       " 'iterable',\n",
       " 'ix_',\n",
       " 'kaiser',\n",
       " 'kron',\n",
       " 'lcm',\n",
       " 'ldexp',\n",
       " 'left_shift',\n",
       " 'less',\n",
       " 'less_equal',\n",
       " 'lexsort',\n",
       " 'lib',\n",
       " 'linalg',\n",
       " 'linspace',\n",
       " 'little_endian',\n",
       " 'load',\n",
       " 'loadtxt',\n",
       " 'log',\n",
       " 'log10',\n",
       " 'log1p',\n",
       " 'log2',\n",
       " 'logaddexp',\n",
       " 'logaddexp2',\n",
       " 'logical_and',\n",
       " 'logical_not',\n",
       " 'logical_or',\n",
       " 'logical_xor',\n",
       " 'logspace',\n",
       " 'longcomplex',\n",
       " 'longdouble',\n",
       " 'longfloat',\n",
       " 'longlong',\n",
       " 'lookfor',\n",
       " 'ma',\n",
       " 'mask_indices',\n",
       " 'mat',\n",
       " 'matmul',\n",
       " 'matrix',\n",
       " 'max',\n",
       " 'maximum',\n",
       " 'maximum_sctype',\n",
       " 'may_share_memory',\n",
       " 'mean',\n",
       " 'median',\n",
       " 'memmap',\n",
       " 'meshgrid',\n",
       " 'mgrid',\n",
       " 'min',\n",
       " 'min_scalar_type',\n",
       " 'minimum',\n",
       " 'mintypecode',\n",
       " 'mod',\n",
       " 'modf',\n",
       " 'moveaxis',\n",
       " 'msort',\n",
       " 'multiply',\n",
       " 'nan',\n",
       " 'nan_to_num',\n",
       " 'nanargmax',\n",
       " 'nanargmin',\n",
       " 'nancumprod',\n",
       " 'nancumsum',\n",
       " 'nanmax',\n",
       " 'nanmean',\n",
       " 'nanmedian',\n",
       " 'nanmin',\n",
       " 'nanpercentile',\n",
       " 'nanprod',\n",
       " 'nanquantile',\n",
       " 'nanstd',\n",
       " 'nansum',\n",
       " 'nanvar',\n",
       " 'nbytes',\n",
       " 'ndarray',\n",
       " 'ndenumerate',\n",
       " 'ndim',\n",
       " 'ndindex',\n",
       " 'nditer',\n",
       " 'negative',\n",
       " 'nested_iters',\n",
       " 'newaxis',\n",
       " 'nextafter',\n",
       " 'nonzero',\n",
       " 'not_equal',\n",
       " 'numarray',\n",
       " 'number',\n",
       " 'obj2sctype',\n",
       " 'object_',\n",
       " 'ogrid',\n",
       " 'oldnumeric',\n",
       " 'ones',\n",
       " 'ones_like',\n",
       " 'outer',\n",
       " 'packbits',\n",
       " 'pad',\n",
       " 'partition',\n",
       " 'percentile',\n",
       " 'pi',\n",
       " 'piecewise',\n",
       " 'place',\n",
       " 'poly',\n",
       " 'poly1d',\n",
       " 'polyadd',\n",
       " 'polyder',\n",
       " 'polydiv',\n",
       " 'polyfit',\n",
       " 'polyint',\n",
       " 'polymul',\n",
       " 'polynomial',\n",
       " 'polysub',\n",
       " 'polyval',\n",
       " 'positive',\n",
       " 'power',\n",
       " 'printoptions',\n",
       " 'prod',\n",
       " 'product',\n",
       " 'promote_types',\n",
       " 'ptp',\n",
       " 'put',\n",
       " 'put_along_axis',\n",
       " 'putmask',\n",
       " 'quantile',\n",
       " 'r_',\n",
       " 'rad2deg',\n",
       " 'radians',\n",
       " 'random',\n",
       " 'ravel',\n",
       " 'ravel_multi_index',\n",
       " 'real',\n",
       " 'real_if_close',\n",
       " 'rec',\n",
       " 'recarray',\n",
       " 'recfromcsv',\n",
       " 'recfromtxt',\n",
       " 'reciprocal',\n",
       " 'record',\n",
       " 'remainder',\n",
       " 'repeat',\n",
       " 'require',\n",
       " 'reshape',\n",
       " 'resize',\n",
       " 'result_type',\n",
       " 'right_shift',\n",
       " 'rint',\n",
       " 'roll',\n",
       " 'rollaxis',\n",
       " 'roots',\n",
       " 'rot90',\n",
       " 'round',\n",
       " 'round_',\n",
       " 'row_stack',\n",
       " 's_',\n",
       " 'safe_eval',\n",
       " 'save',\n",
       " 'savetxt',\n",
       " 'savez',\n",
       " 'savez_compressed',\n",
       " 'sctype2char',\n",
       " 'sctypeDict',\n",
       " 'sctypes',\n",
       " 'searchsorted',\n",
       " 'select',\n",
       " 'set_numeric_ops',\n",
       " 'set_printoptions',\n",
       " 'set_string_function',\n",
       " 'setbufsize',\n",
       " 'setdiff1d',\n",
       " 'seterr',\n",
       " 'seterrcall',\n",
       " 'seterrobj',\n",
       " 'setxor1d',\n",
       " 'shape',\n",
       " 'shares_memory',\n",
       " 'short',\n",
       " 'show_config',\n",
       " 'show_runtime',\n",
       " 'sign',\n",
       " 'signbit',\n",
       " 'signedinteger',\n",
       " 'sin',\n",
       " 'sinc',\n",
       " 'single',\n",
       " 'singlecomplex',\n",
       " 'sinh',\n",
       " 'size',\n",
       " 'sometrue',\n",
       " 'sort',\n",
       " 'sort_complex',\n",
       " 'source',\n",
       " 'spacing',\n",
       " 'split',\n",
       " 'sqrt',\n",
       " 'square',\n",
       " 'squeeze',\n",
       " 'stack',\n",
       " 'std',\n",
       " 'str_',\n",
       " 'string_',\n",
       " 'subtract',\n",
       " 'sum',\n",
       " 'swapaxes',\n",
       " 'take',\n",
       " 'take_along_axis',\n",
       " 'tan',\n",
       " 'tanh',\n",
       " 'tensordot',\n",
       " 'test',\n",
       " 'testing',\n",
       " 'tile',\n",
       " 'timedelta64',\n",
       " 'trace',\n",
       " 'tracemalloc_domain',\n",
       " 'transpose',\n",
       " 'trapz',\n",
       " 'tri',\n",
       " 'tril',\n",
       " 'tril_indices',\n",
       " 'tril_indices_from',\n",
       " 'trim_zeros',\n",
       " 'triu',\n",
       " 'triu_indices',\n",
       " 'triu_indices_from',\n",
       " 'true_divide',\n",
       " 'trunc',\n",
       " 'typecodes',\n",
       " 'typename',\n",
       " 'ubyte',\n",
       " 'ufunc',\n",
       " 'uint',\n",
       " 'uint16',\n",
       " 'uint32',\n",
       " 'uint64',\n",
       " 'uint8',\n",
       " 'uintc',\n",
       " 'uintp',\n",
       " 'ulonglong',\n",
       " 'unicode_',\n",
       " 'union1d',\n",
       " 'unique',\n",
       " 'unpackbits',\n",
       " 'unravel_index',\n",
       " 'unsignedinteger',\n",
       " 'unwrap',\n",
       " 'ushort',\n",
       " 'vander',\n",
       " 'var',\n",
       " 'vdot',\n",
       " 'vectorize',\n",
       " 'version',\n",
       " 'void',\n",
       " 'vsplit',\n",
       " 'vstack',\n",
       " 'where',\n",
       " 'who',\n",
       " 'zeros',\n",
       " 'zeros_like']"
      ]
     },
     "execution_count": 5,
     "metadata": {},
     "output_type": "execute_result"
    }
   ],
   "source": [
    "dir(np)"
   ]
  },
  {
   "cell_type": "code",
   "execution_count": 10,
   "id": "121363b2-6bfd-4e04-8403-cda62e8310df",
   "metadata": {},
   "outputs": [
    {
     "name": "stdout",
     "output_type": "stream",
     "text": [
      "[[1 2 3 4]\n",
      " [2 3 4 5]]\n"
     ]
    },
    {
     "data": {
      "text/plain": [
       "(2, 4)"
      ]
     },
     "execution_count": 10,
     "metadata": {},
     "output_type": "execute_result"
    }
   ],
   "source": [
    "a=np.array([[1,2,3,4],[2,3,4,5]])\n",
    "print(a)#there is no commas in the output this makes it different from list\n",
    "a.shape"
   ]
  },
  {
   "cell_type": "code",
   "execution_count": 11,
   "id": "4ee3e4e0-b36a-46bc-b18b-1760306989da",
   "metadata": {},
   "outputs": [
    {
     "data": {
      "text/plain": [
       "2"
      ]
     },
     "execution_count": 11,
     "metadata": {},
     "output_type": "execute_result"
    }
   ],
   "source": [
    "a.ndim#GIVES THE DIMENSION OF THE ARRAY"
   ]
  },
  {
   "cell_type": "code",
   "execution_count": 13,
   "id": "fe82d164-37b4-4ab7-9d55-cbc4db2ae392",
   "metadata": {},
   "outputs": [
    {
     "name": "stdout",
     "output_type": "stream",
     "text": [
      "[[[4]]]\n"
     ]
    }
   ],
   "source": [
    "b=np.array([[[4]]])\n",
    "b.shape\n",
    "print(b)\n"
   ]
  },
  {
   "cell_type": "code",
   "execution_count": 40,
   "id": "4c5f991d-e6cc-4f15-bb8f-ee0d16d6d60e",
   "metadata": {},
   "outputs": [
    {
     "name": "stdout",
     "output_type": "stream",
     "text": [
      "(5, 4)\n",
      "(3, 1, 2)\n",
      "(3, 1, 1)\n"
     ]
    }
   ],
   "source": [
    "#create an array of (5,4) and (3,1,2)  and (3,0,2)shape\n",
    "c=np.array([[1,2,3,4],[3,4,5,6],[5,6,7,8],[5,6,7,8],[4,5,7,8]])\n",
    "print(c.shape)\n",
    "arr3 = np.array([\n",
    "    [[11, 12]],\n",
    "\n",
    "    \n",
    "    [[15, 16]],\n",
    "\n",
    "    [[3,4]]\n",
    "\n",
    "])\n",
    "print(arr3.shape)\n",
    "ar6=np.array([[[2,3]],[[3,5]],[[5,8]]])\n",
    "print(ar6.shape)\n",
    "\n"
   ]
  },
  {
   "cell_type": "code",
   "execution_count": null,
   "id": "e7a64888-1a1c-4c14-9121-222ae3730c6b",
   "metadata": {},
   "outputs": [],
   "source": [
    "import gspread\n",
    "from oauth2client.service_account import ServiceAccountCredentials\n",
    "import numpy as np\n",
    "\n",
    "# Replace with your own JSON key file path and spreadsheet URL\n",
    "json_keyfile = 'path_to_your_json_key_file.json'\n",
    "spreadsheet_url = 'your_spreadsheet_url_here'\n",
    "\n",
    "# Authenticate using the JSON key file\n",
    "scope = ['https://spreadsheets.google.com/feeds', 'https://www.googleapis.com/auth/drive']\n",
    "credentials = ServiceAccountCredentials.from_json_keyfile_name(json_keyfile, scope)\n",
    "client = gspread.authorize(credentials)\n",
    "\n",
    "# Open the specified spreadsheet\n",
    "spreadsheet = client.open_by_url(spreadsheet_url)\n",
    "worksheet = spreadsheet.get_worksheet(0)  # You can specify the worksheet index\n",
    "\n",
    "# Get all values from the worksheet\n",
    "values = worksheet.get_all_values()\n",
    "\n",
    "# Convert the values to a NumPy array\n",
    "numpy_array = np.array(values)\n",
    "\n",
    "print(numpy_array)\n"
   ]
  },
  {
   "cell_type": "code",
   "execution_count": 73,
   "id": "d854d9e2-2cbf-4517-9174-29f806969780",
   "metadata": {},
   "outputs": [
    {
     "name": "stdout",
     "output_type": "stream",
     "text": [
      "[[0 0 0 0]\n",
      " [0 0 0 0]\n",
      " [0 0 0 0]]\n",
      "[[1. 1. 1.]\n",
      " [1. 1. 1.]]\n",
      "[10 11 12 13 14 15 16 17 18 19 20 21 22 23 24 25 26 27 28 29 30 31 32 33\n",
      " 34 35 36 37 38 39 40 41 42 43 44 45 46 47 48 49 50 51 52 53 54 55 56 57\n",
      " 58 59 60 61 62 63 64 65 66 67 68 69 70 71 72 73 74 75 76 77 78 79 80 81\n",
      " 82 83 84 85 86 87 88 89 90 91 92 93 94 95 96 97 98 99]\n",
      "[1.  1.2 1.4 1.6 1.8]\n",
      "[67.   1.2  1.4  1.6  1.8]\n",
      "[[ 1  2  3  4]\n",
      " [10 11 12 13]]\n",
      "[1 2 3 4]\n",
      "1\n",
      "[[ 2  3]\n",
      " [11 12]]\n",
      "[[ 1  2  3  4  5  6  7  8  9 10 11 12 13 14 15 16 17 18 19 20 21 22 23 24\n",
      "  25 26 27 28 29 30 31 32 33 34 35 36]]\n",
      "[[[ 1  2  3]\n",
      "  [ 4  5  6]\n",
      "  [ 7  8  9]\n",
      "  [10 11 12]]\n",
      "\n",
      " [[13 14 15]\n",
      "  [16 17 18]\n",
      "  [19 20 21]\n",
      "  [22 23 24]]\n",
      "\n",
      " [[25 26 27]\n",
      "  [28 29 30]\n",
      "  [31 32 33]\n",
      "  [34 35 36]]]\n",
      "[[[ 5]\n",
      "  [11]]\n",
      "\n",
      " [[29]\n",
      "  [35]]]\n",
      "[[[[0 0]\n",
      "   [0 0]\n",
      "   [0 0]\n",
      "   [0 0]\n",
      "   [0 0]\n",
      "   [0 0]\n",
      "   [0 0]]\n",
      "\n",
      "  [[0 0]\n",
      "   [0 0]\n",
      "   [0 0]\n",
      "   [0 0]\n",
      "   [0 0]\n",
      "   [0 0]\n",
      "   [0 0]]\n",
      "\n",
      "  [[0 0]\n",
      "   [0 0]\n",
      "   [0 0]\n",
      "   [0 0]\n",
      "   [0 0]\n",
      "   [0 0]\n",
      "   [0 0]]\n",
      "\n",
      "  [[0 0]\n",
      "   [0 0]\n",
      "   [0 0]\n",
      "   [0 0]\n",
      "   [0 0]\n",
      "   [0 0]\n",
      "   [0 0]]]\n",
      "\n",
      "\n",
      " [[[0 0]\n",
      "   [0 0]\n",
      "   [0 0]\n",
      "   [0 0]\n",
      "   [0 0]\n",
      "   [0 0]\n",
      "   [0 0]]\n",
      "\n",
      "  [[0 0]\n",
      "   [0 0]\n",
      "   [0 0]\n",
      "   [0 0]\n",
      "   [0 0]\n",
      "   [0 0]\n",
      "   [0 0]]\n",
      "\n",
      "  [[0 0]\n",
      "   [0 0]\n",
      "   [0 0]\n",
      "   [0 0]\n",
      "   [0 0]\n",
      "   [0 0]\n",
      "   [0 0]]\n",
      "\n",
      "  [[0 0]\n",
      "   [0 0]\n",
      "   [0 0]\n",
      "   [0 0]\n",
      "   [0 0]\n",
      "   [0 0]\n",
      "   [0 0]]]\n",
      "\n",
      "\n",
      " [[[0 0]\n",
      "   [0 0]\n",
      "   [0 0]\n",
      "   [0 0]\n",
      "   [0 0]\n",
      "   [0 0]\n",
      "   [0 0]]\n",
      "\n",
      "  [[0 0]\n",
      "   [0 0]\n",
      "   [0 0]\n",
      "   [0 0]\n",
      "   [0 0]\n",
      "   [0 0]\n",
      "   [0 0]]\n",
      "\n",
      "  [[0 0]\n",
      "   [0 0]\n",
      "   [0 0]\n",
      "   [0 0]\n",
      "   [0 0]\n",
      "   [0 0]\n",
      "   [0 0]]\n",
      "\n",
      "  [[0 0]\n",
      "   [0 0]\n",
      "   [0 0]\n",
      "   [0 0]\n",
      "   [0 0]\n",
      "   [0 0]\n",
      "   [0 0]]]\n",
      "\n",
      "\n",
      " [[[0 0]\n",
      "   [0 0]\n",
      "   [0 0]\n",
      "   [0 0]\n",
      "   [0 0]\n",
      "   [0 0]\n",
      "   [0 0]]\n",
      "\n",
      "  [[0 0]\n",
      "   [0 0]\n",
      "   [0 0]\n",
      "   [0 0]\n",
      "   [0 0]\n",
      "   [0 0]\n",
      "   [0 0]]\n",
      "\n",
      "  [[0 0]\n",
      "   [0 0]\n",
      "   [0 0]\n",
      "   [0 0]\n",
      "   [0 0]\n",
      "   [0 0]\n",
      "   [0 0]]\n",
      "\n",
      "  [[0 0]\n",
      "   [0 0]\n",
      "   [0 0]\n",
      "   [0 0]\n",
      "   [0 0]\n",
      "   [0 0]\n",
      "   [0 0]]]]\n"
     ]
    }
   ],
   "source": [
    "import numpy as np\n",
    "z=np.zeros((3,4),dtype=np.int8)\n",
    "print(z)\n",
    "\n",
    "k=np.ones((2,3),dtype=float)\n",
    "print(k)\n",
    "\n",
    "j=np.arange(10,100)\n",
    "print(j)\n",
    "\n",
    "t=np.linspace(1,2,num=5,endpoint=False)#whether to include the last value or not \n",
    "print(t)\n",
    "t[0]=67#only value mutable not size mutable\n",
    "print(t)\n",
    "\n",
    "\n",
    "pkm=np.array([np.arange(1,5),np.arange(10,14)])\n",
    "print(pkm)\n",
    "print(pkm[0])#print first row\n",
    "print(pkm[0,0])#print first element of first row\n",
    "print(pkm[0:2,1:3])#array slicing for 2d array\n",
    "jkt=np.array([np.arange(1,37)])\n",
    "print(jkt)\n",
    "\n",
    "h=jkt.reshape(3,4,3)\n",
    "print(h)\n",
    "print(h[0::2,1::2,1::2])\n",
    "\n",
    "ko=np.zeros((4,4,7,2),dtype=np.int8)\n",
    "print(ko)\n",
    "kp=[[[[0 0]\n",
    "   [0 0]\n",
    "   [0 0]\n",
    "   [0 0]\n",
    "   [0 0]\n",
    "   [0 0]\n",
    "   [0 0]]\n",
    "\n",
    "  [[0 0]\n",
    "   [0 0]\n",
    "   [0 0]\n",
    "   [0 0]\n",
    "   [0 0]\n",
    "   [0 0]\n",
    "   [0 0]]\n",
    "\n",
    "  [[0 0]\n",
    "   [0 0]\n",
    "   [0 0]\n",
    "   [0 0]\n",
    "   [0 0]\n",
    "   [0 0]\n",
    "   [0 0]]\n",
    "\n",
    "  [[0 0]\n",
    "   [0 0]\n",
    "   [0 0]\n",
    "   [0 0]\n",
    "   [0 0]\n",
    "   [0 0]\n",
    "   [0 0]]]\n",
    "\n",
    "\n",
    " [[[0 0]\n",
    "   [0 0]\n",
    "   [0 0]\n",
    "   [0 0]\n",
    "   [0 0]\n",
    "   [0 0]\n",
    "   [0 0]]\n",
    "\n",
    "  [[0 0]\n",
    "   [0 0]\n",
    "   [0 0]\n",
    "   [0 0]\n",
    "   [0 0]\n",
    "   [0 0]\n",
    "   [0 0]]\n",
    "\n",
    "  [[0 0]\n",
    "   [0 0]\n",
    "   [0 0]\n",
    "   [0 0]\n",
    "   [0 0]\n",
    "   [0 0]\n",
    "   [0 0]]\n",
    "\n",
    "  [[0 0]\n",
    "   [0 0]\n",
    "   [0 0]\n",
    "   [0 0]\n",
    "   [0 0]\n",
    "   [0 0]\n",
    "   [0 0]]]\n",
    "\n",
    "\n",
    " [[[0 0]\n",
    "   [0 0]\n",
    "   [0 0]\n",
    "   [0 0]\n",
    "   [0 0]\n",
    "   [0 0]\n",
    "   [0 0]]\n",
    "\n",
    "  [[0 0]\n",
    "   [0 0]\n",
    "   [0 0]\n",
    "   [0 0]\n",
    "   [0 0]\n",
    "   [0 0]\n",
    "   [0 0]]\n",
    "\n",
    "  [[0 0]\n",
    "   [0 0]\n",
    "   [0 0]\n",
    "   [0 0]\n",
    "   [0 0]\n",
    "   [0 0]\n",
    "   [0 0]]\n",
    "\n",
    "  [[0 0]\n",
    "   [0 0]\n",
    "   [0 0]\n",
    "   [0 0]\n",
    "   [0 0]\n",
    "   [0 0]\n",
    "   [0 0]]]\n",
    "\n",
    "\n",
    " [[[0 0]\n",
    "   [0 0]\n",
    "   [0 0]\n",
    "   [0 0]\n",
    "   [0 0]\n",
    "   [0 0]\n",
    "   [0 0]]\n",
    "\n",
    "  [[0 0]\n",
    "   [0 0]\n",
    "   [0 0]\n",
    "   [0 0]\n",
    "   [0 0]\n",
    "   [0 0]\n",
    "   [0 0]]\n",
    "\n",
    "  [[0 0]\n",
    "   [0 0]\n",
    "   [0 0]\n",
    "   [0 0]\n",
    "   [0 0]\n",
    "   [0 0]\n",
    "   [0 0]]\n",
    "\n",
    "  [[0 0]\n",
    "   [0 0]\n",
    "   [0 0]\n",
    "   [0 0]\n",
    "   [0 0]\n",
    "   [0 0]\n",
    "   [0 0]]]]\n"
   ]
  },
  {
   "cell_type": "code",
   "execution_count": 2,
   "id": "1b3809dc-40f6-4f61-9461-b7b846836e14",
   "metadata": {},
   "outputs": [
    {
     "name": "stdout",
     "output_type": "stream",
     "text": [
      "[2 3 4]\n"
     ]
    }
   ],
   "source": [
    "import numpy as np\n",
    "a=np.array([np.arange(1,6),np.arange(11,16)])\n",
    "t=[1,2,3]#print 2nd 3rd and 4th element\n",
    "print(a[0,t])#fancy indexing "
   ]
  },
  {
   "cell_type": "code",
   "execution_count": null,
   "id": "c70cd3c7-016c-42db-99e0-449d2da25cff",
   "metadata": {},
   "outputs": [],
   "source": [
    "#to use conditions and get a numpy array as result"
   ]
  },
  {
   "cell_type": "code",
   "execution_count": 6,
   "id": "9238c157-fa09-4786-834e-0ca7dfe02c2f",
   "metadata": {},
   "outputs": [
    {
     "name": "stdout",
     "output_type": "stream",
     "text": [
      "[False  True  True False False  True  True  True]\n",
      "[9 6 7 6 5]\n"
     ]
    }
   ],
   "source": [
    "c=np.array([1,9,6,4,2,7,6,5])\n",
    "b=c>4\n",
    "print(b)\n",
    "k=c[b]#filtering elements greater than 4\n",
    "print(k)"
   ]
  },
  {
   "cell_type": "code",
   "execution_count": 9,
   "id": "7038570f-f984-4a76-ad06-47ff164266f3",
   "metadata": {},
   "outputs": [
    {
     "name": "stdout",
     "output_type": "stream",
     "text": [
      "[[67  9  6  4]\n",
      " [ 2  7  6  5]]\n"
     ]
    }
   ],
   "source": [
    "c=np.array([1,9,6,4,2,7,6,5])\n",
    "arr7=c.reshape((2,4))\n",
    "c[0]=67\n",
    "print(arr7)\n",
    "#so conclusion is c and arr7 is pointing to same array if we change any one the change in other also can be seen so both point  to soame location\n",
    "#slicing and reshaping points to the same memory location and make chagnes in same array it creates view to save memory and time to make fast operations  \n",
    "arr7=c.reshape((2,4)).copy()# this will allocate different memory location"
   ]
  },
  {
   "cell_type": "code",
   "execution_count": 25,
   "id": "757b9931-0de7-473b-8734-42fce5ce14cf",
   "metadata": {},
   "outputs": [
    {
     "name": "stdout",
     "output_type": "stream",
     "text": [
      "106\n",
      "[69 16 12  9]\n",
      "13\n",
      "[21  5]\n",
      "3.1\n",
      "21.5\n"
     ]
    }
   ],
   "source": [
    "ar8=np.array([[67,9  ,6  ,4],\n",
    " [ 2 , 7  ,6  ,5]])\n",
    "total=np.sum(ar8)#sums all the values of array\n",
    "print(total)\n",
    "#axis=0 then vertical \n",
    "#axis=1 then horizontal\n",
    "print(np.sum(ar8,axis=0))\n",
    "print(np.mean(ar8,dtype=int))\n",
    "print(np.mean(ar8,dtype=int,axis=1))\n",
    "\n",
    "pi=round(3.123,ndigits=1)#using round function\n",
    "print(pi)\n",
    "\n",
    "\n",
    "arrt8=np.array([[67,9  ,6  ,4],\n",
    " [ 2 , 7  ,6  ,5]])\n",
    "print(np.mean(arrt8,where=[[True],[False]]))#only first block mean will be taken"
   ]
  }
 ],
 "metadata": {
  "kernelspec": {
   "display_name": "Python 3 (ipykernel)",
   "language": "python",
   "name": "python3"
  },
  "language_info": {
   "codemirror_mode": {
    "name": "ipython",
    "version": 3
   },
   "file_extension": ".py",
   "mimetype": "text/x-python",
   "name": "python",
   "nbconvert_exporter": "python",
   "pygments_lexer": "ipython3",
   "version": "3.11.1"
  }
 },
 "nbformat": 4,
 "nbformat_minor": 5
}
