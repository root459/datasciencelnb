{
 "cells": [
  {
   "cell_type": "raw",
   "id": "21853354-350e-44c8-8410-644558043cba",
   "metadata": {},
   "source": [
    "week0"
   ]
  },
  {
   "cell_type": "code",
   "execution_count": 1,
   "id": "b28d090c-7aeb-47fa-b5b8-78d153862485",
   "metadata": {},
   "outputs": [
    {
     "name": "stdout",
     "output_type": "stream",
     "text": [
      "hello world1jkl yu\n",
      "hello kilo\n"
     ]
    },
    {
     "name": "stdin",
     "output_type": "stream",
     "text": [
      "enter the name yuvrajsinghrathoer\n"
     ]
    },
    {
     "name": "stdout",
     "output_type": "stream",
     "text": [
      "Yuvrajsinghrathoer\n"
     ]
    },
    {
     "name": "stdin",
     "output_type": "stream",
     "text": [
      "enter the name ud  sdfas ad fa \n"
     ]
    },
    {
     "name": "stdout",
     "output_type": "stream",
     "text": [
      "Ud  Sdfas Ad Fa\n",
      "yash singh\n"
     ]
    }
   ],
   "source": [
    "print(\"hello world\",\"jkl\" ,sep=\"1\",end=' ')\n",
    "print(\"yu\")\n",
    "name=\"kilo\"\n",
    "print(f\"hello {name}\")\n",
    "a=input(\"enter the name\")\n",
    "a=a.strip()#removing trailing spaces from starting and end of the string\n",
    "a=a.capitalize()#capitalize the starting word of the sentence\n",
    "a=a.title()#capitalize first character of each word\n",
    "#rather than writting code in different lines\n",
    "a=a.strip().title()#open the first\n",
    "print(a)\n",
    "#more simple code\n",
    "yu=input(\"enter the name\").title().strip()\n",
    "print(yu)\n",
    "jkl=\"yash singh rajavat\"\n",
    "first,middle,last=jkl.split(\" \")#split the string according to the spliter here is space\n",
    "print(first,middle)"
   ]
  }
 ],
 "metadata": {
  "kernelspec": {
   "display_name": "Python 3 (ipykernel)",
   "language": "python",
   "name": "python3"
  },
  "language_info": {
   "codemirror_mode": {
    "name": "ipython",
    "version": 3
   },
   "file_extension": ".py",
   "mimetype": "text/x-python",
   "name": "python",
   "nbconvert_exporter": "python",
   "pygments_lexer": "ipython3",
   "version": "3.11.1"
  }
 },
 "nbformat": 4,
 "nbformat_minor": 5
}
