{
 "cells": [
  {
   "cell_type": "raw",
   "id": "21853354-350e-44c8-8410-644558043cba",
   "metadata": {},
   "source": [
    "week0"
   ]
  },
  {
   "cell_type": "code",
   "execution_count": 1,
   "id": "b28d090c-7aeb-47fa-b5b8-78d153862485",
   "metadata": {},
   "outputs": [
    {
     "name": "stdout",
     "output_type": "stream",
     "text": [
      "hello world1jkl yu\n",
      "hello kilo\n"
     ]
    },
    {
     "name": "stdin",
     "output_type": "stream",
     "text": [
      "enter the name yuvrajsinghrathoer\n"
     ]
    },
    {
     "name": "stdout",
     "output_type": "stream",
     "text": [
      "Yuvrajsinghrathoer\n"
     ]
    },
    {
     "name": "stdin",
     "output_type": "stream",
     "text": [
      "enter the name ud  sdfas ad fa \n"
     ]
    },
    {
     "name": "stdout",
     "output_type": "stream",
     "text": [
      "Ud  Sdfas Ad Fa\n",
      "yash singh\n"
     ]
    }
   ],
   "source": [
    "print(\"hello world\",\"jkl\" ,sep=\"1\",end=' ')\n",
    "print(\"yu\")\n",
    "name=\"kilo\"\n",
    "print(f\"hello {name}\")\n",
    "a=input(\"enter the name\")\n",
    "a=a.strip()#removing trailing spaces from starting and end of the string\n",
    "a=a.capitalize()#capitalize the starting word of the sentence\n",
    "a=a.title()#capitalize first character of each word\n",
    "#rather than writting code in different lines\n",
    "a=a.strip().title()#open the first\n",
    "print(a)\n",
    "#more simple code\n",
    "yu=input(\"enter the name\").title().strip()\n",
    "print(yu)\n",
    "jkl=\"yash singh rajavat\"\n",
    "first,middle,last=jkl.split(\" \")#split the string according to the spliter here is space\n",
    "print(first,middle)"
   ]
  },
  {
   "cell_type": "code",
   "execution_count": 4,
   "id": "b655ebe8-dd41-4037-a82d-3b9301eaa02e",
   "metadata": {},
   "outputs": [
    {
     "name": "stdin",
     "output_type": "stream",
     "text": [
      "enter the number 5\n"
     ]
    },
    {
     "name": "stdout",
     "output_type": "stream",
     "text": [
      "odd\n"
     ]
    }
   ],
   "source": [
    "#week 1\n",
    "def check(x):\n",
    "    return (x%2==0)\n",
    "#    return True if x%2==0 else False\n",
    "def main():\n",
    "    x=int(input(\"enter the number\"))\n",
    "    if check(x):\n",
    "        print(\"is even\")\n",
    "    else:\n",
    "        print(\" is odd\")\n",
    "main()\n",
    "    "
   ]
  },
  {
   "cell_type": "code",
   "execution_count": 7,
   "id": "af7dbab8-18c8-4bfe-991d-743cb3ada4bb",
   "metadata": {},
   "outputs": [
    {
     "name": "stdin",
     "output_type": "stream",
     "text": [
      "enter the age 50\n"
     ]
    },
    {
     "name": "stdout",
     "output_type": "stream",
     "text": [
      "using or condition\n"
     ]
    }
   ],
   "source": [
    "#week 1\n",
    "#switch case in python \n",
    "age=int(input(\"enter the age\"))\n",
    "match age:\n",
    "    case age if 0 < age < 7:\n",
    "        print(\"Early Childhood\")\n",
    "    case age if 7 <= age < 14:\n",
    "        print(\"Childhood\")\n",
    "    case age if 14 <= age < 20:\n",
    "        print(\"Teenage\")\n",
    "    case age if 20 <= age < 40:\n",
    "        print(\"Young Adult\")\n",
    "    case 100 | 50:\n",
    "        print(\"using or condition\")\n",
    "    case age if 40 <= age < 65:\n",
    "        print(\"Middle-Aged Adult\")\n",
    "    case _:#default case \n",
    "        print(\"Senior Citizen\")\n"
   ]
  },
  {
   "cell_type": "code",
   "execution_count": 1,
   "id": "6f823ba2-1aad-4044-a578-dbe6e5524bee",
   "metadata": {},
   "outputs": [
    {
     "name": "stdout",
     "output_type": "stream",
     "text": [
      "in the forloop\n",
      "in the forloop\n",
      "in the forloop\n",
      "in the forloop\n"
     ]
    }
   ],
   "source": [
    "#week 2\n",
    "i=3\n",
    "while i>=0:\n",
    "    print(\"in the forloop\")\n",
    "    i=i-1\n"
   ]
  },
  {
   "cell_type": "code",
   "execution_count": 4,
   "id": "8f34e81f-381b-4725-beb9-aa4b7b11a905",
   "metadata": {},
   "outputs": [
    {
     "name": "stdout",
     "output_type": "stream",
     "text": [
      "in the loop\n",
      "in the loop\n",
      "in the loop\n"
     ]
    }
   ],
   "source": [
    "for _ in range(3):#not using in the loop so put it _\n",
    "    print(\"in the loop\")"
   ]
  },
  {
   "cell_type": "code",
   "execution_count": 10,
   "id": "33c544f1-adfc-44a1-8f66-7ac9a1dd0133",
   "metadata": {},
   "outputs": [
    {
     "name": "stdout",
     "output_type": "stream",
     "text": [
      "hi \n",
      "hi \n"
     ]
    }
   ],
   "source": [
    "print(\"hi \\n\"*2,end=\"\")"
   ]
  },
  {
   "cell_type": "code",
   "execution_count": 12,
   "id": "da4fc6a8-9aa4-43b6-9899-4b63b9fc6d0f",
   "metadata": {},
   "outputs": [
    {
     "name": "stdin",
     "output_type": "stream",
     "text": [
      "enter the value of n -2\n",
      "enter the value of n 0\n",
      "enter the value of n 1\n"
     ]
    },
    {
     "name": "stdout",
     "output_type": "stream",
     "text": [
      "meow\n"
     ]
    }
   ],
   "source": [
    "while True:\n",
    "    k=int(input(\"enter the value of n\"))\n",
    "    if k>0:\n",
    "        break\n",
    "for _ in range(k):\n",
    "    print(\"meow\")"
   ]
  }
 ],
 "metadata": {
  "kernelspec": {
   "display_name": "Python 3 (ipykernel)",
   "language": "python",
   "name": "python3"
  },
  "language_info": {
   "codemirror_mode": {
    "name": "ipython",
    "version": 3
   },
   "file_extension": ".py",
   "mimetype": "text/x-python",
   "name": "python",
   "nbconvert_exporter": "python",
   "pygments_lexer": "ipython3",
   "version": "3.11.5"
  }
 },
 "nbformat": 4,
 "nbformat_minor": 5
}
