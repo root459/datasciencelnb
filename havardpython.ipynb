{
 "cells": [
  {
   "cell_type": "raw",
   "id": "21853354-350e-44c8-8410-644558043cba",
   "metadata": {},
   "source": [
    "week0"
   ]
  },
  {
   "cell_type": "code",
   "execution_count": 1,
   "id": "b28d090c-7aeb-47fa-b5b8-78d153862485",
   "metadata": {},
   "outputs": [
    {
     "name": "stdout",
     "output_type": "stream",
     "text": [
      "hello world1jkl yu\n",
      "hello kilo\n"
     ]
    },
    {
     "name": "stdin",
     "output_type": "stream",
     "text": [
      "enter the name yuvrja\n"
     ]
    },
    {
     "name": "stdout",
     "output_type": "stream",
     "text": [
      "Yuvrja\n"
     ]
    },
    {
     "name": "stdin",
     "output_type": "stream",
     "text": [
      "enter the name yuvraj\n"
     ]
    },
    {
     "name": "stdout",
     "output_type": "stream",
     "text": [
      "Yuvraj\n",
      "yash singh\n"
     ]
    }
   ],
   "source": [
    "print(\"hello world\",\"jkl\" ,sep=\"1\",end=' ')\n",
    "print(\"yu\")\n",
    "name=\"kilo\"\n",
    "print(f\"hello {name}\")\n",
    "a=input(\"enter the name\")\n",
    "a=a.strip()#removing trailing spaces from starting and end of the string\n",
    "a=a.capitalize()#capitalize the starting word of the sentence\n",
    "a=a.title()#capitalize first character of each word\n",
    "#rather than writting code in different lines\n",
    "a=a.strip().title()#open the first\n",
    "print(a)\n",
    "#more simple code\n",
    "yu=input(\"enter the name\").title().strip()\n",
    "print(yu)\n",
    "jkl=\"yash singh rajavat\"\n",
    "first,middle,last=jkl.split(\" \")#split the string according to the spliter here is space\n",
    "print(first,middle)"
   ]
  },
  {
   "cell_type": "code",
   "execution_count": 2,
   "id": "b655ebe8-dd41-4037-a82d-3b9301eaa02e",
   "metadata": {},
   "outputs": [
    {
     "name": "stdin",
     "output_type": "stream",
     "text": [
      "enter the number 34\n"
     ]
    },
    {
     "name": "stdout",
     "output_type": "stream",
     "text": [
      "is even\n"
     ]
    }
   ],
   "source": [
    "#week 1\n",
    "def check(x):\n",
    "    return (x%2==0)\n",
    "#    return True if x%2==0 else False\n",
    "def main():\n",
    "    x=int(input(\"enter the number\"))\n",
    "    if check(x):\n",
    "        print(\"is even\")\n",
    "    else:\n",
    "        print(\" is odd\")\n",
    "main()\n",
    "    "
   ]
  },
  {
   "cell_type": "code",
   "execution_count": 3,
   "id": "af7dbab8-18c8-4bfe-991d-743cb3ada4bb",
   "metadata": {},
   "outputs": [
    {
     "name": "stdin",
     "output_type": "stream",
     "text": [
      "enter the age 3\n"
     ]
    },
    {
     "name": "stdout",
     "output_type": "stream",
     "text": [
      "Early Childhood\n"
     ]
    }
   ],
   "source": [
    "#week 1\n",
    "#switch case in python \n",
    "age=int(input(\"enter the age\"))\n",
    "match age:\n",
    "    case age if 0 < age < 7:\n",
    "        print(\"Early Childhood\")\n",
    "    case age if 7 <= age < 14:\n",
    "        print(\"Childhood\")\n",
    "    case age if 14 <= age < 20:\n",
    "        print(\"Teenage\")\n",
    "    case age if 20 <= age < 40:\n",
    "        print(\"Young Adult\")\n",
    "    case 100 | 50:\n",
    "        print(\"using or condition\")\n",
    "    case age if 40 <= age < 65:\n",
    "        print(\"Middle-Aged Adult\")\n",
    "    case _:#default case \n",
    "        print(\"Senior Citizen\")\n"
   ]
  },
  {
   "cell_type": "code",
   "execution_count": 4,
   "id": "6f823ba2-1aad-4044-a578-dbe6e5524bee",
   "metadata": {},
   "outputs": [
    {
     "name": "stdout",
     "output_type": "stream",
     "text": [
      "in the forloop\n",
      "in the forloop\n",
      "in the forloop\n",
      "in the forloop\n"
     ]
    }
   ],
   "source": [
    "#week 2\n",
    "i=3\n",
    "while i>=0:\n",
    "    print(\"in the forloop\")\n",
    "    i=i-1\n"
   ]
  },
  {
   "cell_type": "code",
   "execution_count": 5,
   "id": "8f34e81f-381b-4725-beb9-aa4b7b11a905",
   "metadata": {},
   "outputs": [
    {
     "name": "stdout",
     "output_type": "stream",
     "text": [
      "in the loop\n",
      "in the loop\n",
      "in the loop\n"
     ]
    }
   ],
   "source": [
    "for _ in range(3):#not using in the loop so put it _\n",
    "    print(\"in the loop\")"
   ]
  },
  {
   "cell_type": "code",
   "execution_count": 6,
   "id": "33c544f1-adfc-44a1-8f66-7ac9a1dd0133",
   "metadata": {},
   "outputs": [
    {
     "name": "stdout",
     "output_type": "stream",
     "text": [
      "hi \n",
      "hi \n"
     ]
    }
   ],
   "source": [
    "print(\"hi \\n\"*2,end=\"\")"
   ]
  },
  {
   "cell_type": "code",
   "execution_count": 7,
   "id": "da4fc6a8-9aa4-43b6-9899-4b63b9fc6d0f",
   "metadata": {},
   "outputs": [
    {
     "name": "stdin",
     "output_type": "stream",
     "text": [
      "enter the value of n 56\n"
     ]
    },
    {
     "name": "stdout",
     "output_type": "stream",
     "text": [
      "meow\n",
      "0\n",
      "meow\n",
      "1\n",
      "meow\n",
      "2\n",
      "meow\n",
      "3\n",
      "meow\n",
      "4\n",
      "meow\n",
      "5\n",
      "meow\n",
      "6\n",
      "meow\n",
      "7\n",
      "meow\n",
      "8\n",
      "meow\n",
      "9\n",
      "meow\n",
      "10\n",
      "meow\n",
      "11\n",
      "meow\n",
      "12\n",
      "meow\n",
      "13\n",
      "meow\n",
      "14\n",
      "meow\n",
      "15\n",
      "meow\n",
      "16\n",
      "meow\n",
      "17\n",
      "meow\n",
      "18\n",
      "meow\n",
      "19\n",
      "meow\n",
      "20\n",
      "meow\n",
      "21\n",
      "meow\n",
      "22\n",
      "meow\n",
      "23\n",
      "meow\n",
      "24\n",
      "meow\n",
      "25\n",
      "meow\n",
      "26\n",
      "meow\n",
      "27\n",
      "meow\n",
      "28\n",
      "meow\n",
      "29\n",
      "meow\n",
      "30\n",
      "meow\n",
      "31\n",
      "meow\n",
      "32\n",
      "meow\n",
      "33\n",
      "meow\n",
      "34\n",
      "meow\n",
      "35\n",
      "meow\n",
      "36\n",
      "meow\n",
      "37\n",
      "meow\n",
      "38\n",
      "meow\n",
      "39\n",
      "meow\n",
      "40\n",
      "meow\n",
      "41\n",
      "meow\n",
      "42\n",
      "meow\n",
      "43\n",
      "meow\n",
      "44\n",
      "meow\n",
      "45\n",
      "meow\n",
      "46\n",
      "meow\n",
      "47\n",
      "meow\n",
      "48\n",
      "meow\n",
      "49\n",
      "meow\n",
      "50\n",
      "meow\n",
      "51\n",
      "meow\n",
      "52\n",
      "meow\n",
      "53\n",
      "meow\n",
      "54\n",
      "meow\n",
      "55\n"
     ]
    }
   ],
   "source": [
    "while True:\n",
    "    k=int(input(\"enter the value of n\"))\n",
    "    if k>0:\n",
    "        break\n",
    "for _ in range(k):\n",
    "    print(\"meow\")\n",
    "    print(_)"
   ]
  },
  {
   "cell_type": "code",
   "execution_count": 8,
   "id": "067047f1-f548-483b-8f69-ffee695c0915",
   "metadata": {},
   "outputs": [
    {
     "name": "stdout",
     "output_type": "stream",
     "text": [
      "hermione\n",
      "harry\n",
      "ron\n"
     ]
    }
   ],
   "source": [
    "#loop and lists \n",
    "students=[\"hermione\",\"harry\",\"ron\"]\n",
    "for student in students:\n",
    "    print(student)"
   ]
  },
  {
   "cell_type": "code",
   "execution_count": 9,
   "id": "576dcfe3-cd6c-47a3-9732-6a6ca672783c",
   "metadata": {},
   "outputs": [
    {
     "name": "stdout",
     "output_type": "stream",
     "text": [
      "hermione\n",
      "hello\n",
      "say\n",
      "grifdoor\n",
      "goodbye\n",
      "not\n"
     ]
    }
   ],
   "source": [
    "students={\n",
    "    \"hermione\":\"grifdoor\",\n",
    "    \"hello\":\"goodbye\",\n",
    "    \"say\":\"not\"\n",
    "}\n",
    "for i in students:\n",
    "    print(i)\n",
    "for i in students:\n",
    "    print(students[i])"
   ]
  },
  {
   "cell_type": "code",
   "execution_count": 10,
   "id": "321ccf02-722c-4d11-8580-aa777e2b4e09",
   "metadata": {},
   "outputs": [
    {
     "name": "stdout",
     "output_type": "stream",
     "text": [
      "{'name': 'Alice', 'age': 30, 'city': 'New York'}\n",
      "{'name': 'Bob', 'age': 25, 'city': 'San Francisco'}\n",
      "{'name': 'Charlie', 'age': 35, 'city': None}\n",
      "Alice\n",
      "Bob\n",
      "Charlie\n"
     ]
    }
   ],
   "source": [
    "\n",
    "list_dicts = [\n",
    "    {\"name\": \"Alice\", \"age\": 30, \"city\": \"New York\"},\n",
    "    {\"name\": \"Bob\", \"age\": 25, \"city\": \"San Francisco\"},\n",
    "    {\"name\": \"Charlie\", \"age\": 35, \"city\":None}\n",
    "]\n",
    "for i in list_dicts:\n",
    "    print(i)\n",
    "for i in list_dicts:\n",
    "    print(i[\"name\"])\n",
    "\n"
   ]
  },
  {
   "cell_type": "markdown",
   "id": "1fbf08dc-ac68-4303-b4ad-41da60bbe095",
   "metadata": {},
   "source": [
    "Much like a list, a str is “iterable,” which means you can iterate over each of its characters in a loop. For instance, if s is a str, you could print each of its characters, one at a time, with code like:"
   ]
  },
  {
   "cell_type": "code",
   "execution_count": 11,
   "id": "3e0ef639-a19d-48e9-be08-cba711979916",
   "metadata": {},
   "outputs": [
    {
     "name": "stdout",
     "output_type": "stream",
     "text": [
      "y\n",
      "u\n",
      "v\n",
      "r\n",
      "a\n",
      "j\n"
     ]
    }
   ],
   "source": [
    "a=\"yuvraj\"\n",
    "for i in a:\n",
    "    print(i)"
   ]
  },
  {
   "cell_type": "code",
   "execution_count": 12,
   "id": "d4209f75-2038-4064-8d46-025293619c34",
   "metadata": {},
   "outputs": [
    {
     "name": "stdout",
     "output_type": "stream",
     "text": [
      "Amount Due: 50\n"
     ]
    },
    {
     "name": "stdin",
     "output_type": "stream",
     "text": [
      "Insert Coin: 25\n"
     ]
    },
    {
     "name": "stdout",
     "output_type": "stream",
     "text": [
      "Amount Due: 25\n"
     ]
    },
    {
     "name": "stdin",
     "output_type": "stream",
     "text": [
      "Insert Coin: 25\n"
     ]
    },
    {
     "name": "stdout",
     "output_type": "stream",
     "text": [
      "Change Owed: 0\n"
     ]
    }
   ],
   "source": [
    "amount=50\n",
    "ins_amount=0\n",
    "amt_due=50\n",
    "res_amt=0\n",
    "while amount>0:\n",
    "    print(\"Amount Due:\",amount)\n",
    "    ins_amount=int(input(\"Insert Coin:\"))\n",
    "    if ins_amount in [25,10,5]:\n",
    "        amount-=ins_amount\n",
    "\n",
    "        if amount==0:\n",
    "           print(\"Change Owed: 0\")\n",
    "           break\n",
    "\n",
    "        if amount<0:\n",
    "            res_amt=amount*(-1)\n",
    "            amount=0\n",
    "            print(\"Change Owed:\",res_amt)\n",
    "            break\n"
   ]
  },
  {
   "cell_type": "code",
   "execution_count": 14,
   "id": "f4ad254b-c0b2-4486-bca3-1895f79e324f",
   "metadata": {},
   "outputs": [
    {
     "name": "stdin",
     "output_type": "stream",
     "text": [
      "Input:  ksldjf\n"
     ]
    },
    {
     "name": "stdout",
     "output_type": "stream",
     "text": [
      "Output: ksldjf\n"
     ]
    }
   ],
   "source": [
    "st=input(\"Input: \")\n",
    "temp=\"\"\n",
    "for i in st:\n",
    "    if i.upper() in [\"A\",\"E\",\"I\",\"O\",\"U\"]:\n",
    "        pass\n",
    "    else:\n",
    "        temp=temp+i\n",
    "print(\"Output:\",temp)\n"
   ]
  },
  {
   "cell_type": "code",
   "execution_count": null,
   "id": "4b29d090-71b3-4580-884c-9e27f9966dc2",
   "metadata": {},
   "outputs": [],
   "source": [
    "\n"
   ]
  },
  {
   "cell_type": "code",
   "execution_count": null,
   "id": "69345099-d95a-4cf9-943d-fa934c2ca183",
   "metadata": {},
   "outputs": [],
   "source": []
  },
  {
   "cell_type": "code",
   "execution_count": 6,
   "id": "792a3dad-4110-427d-9fbe-992aba36c562",
   "metadata": {},
   "outputs": [
    {
     "name": "stdin",
     "output_type": "stream",
     "text": [
      "Plate: CS05\n"
     ]
    },
    {
     "name": "stdout",
     "output_type": "stream",
     "text": [
      "valid\n"
     ]
    }
   ],
   "source": [
    "st = input(\"Plate:\")\n",
    "flag = 0\n",
    "a = 0\n",
    "b = 0\n",
    "kt=0\n",
    "for i in st:\n",
    "    if not i.isalnum():\n",
    "        kt=0\n",
    "        break\n",
    "    else:\n",
    "        kt=1\n",
    "        \n",
    "\n",
    "\n",
    "if len(st) <= 6 and len(st) >= 2 and kt==1:\n",
    "    for i in st[0:2]:\n",
    "        if i.isalpha():\n",
    "            flag = 1\n",
    "        else:\n",
    "            flag = 0\n",
    "            exit()\n",
    "            \n",
    "\n",
    "    for k in st:\n",
    "        if k.isdigit():\n",
    "            for index, i in enumerate(st[2:]):\n",
    "                if i.isalpha():\n",
    "                    a = index\n",
    "                else:\n",
    "                    b = index\n",
    "            if b > a:\n",
    "                flag = 1\n",
    "            else:\n",
    "                flag = 0\n",
    "\n",
    "if flag == 1:\n",
    "    print(\"valid\")\n",
    "else:\n",
    "    print(\"invalid\")\n"
   ]
  },
  {
   "cell_type": "markdown",
   "id": "1e5d85f7-a5cf-4bcf-9e9a-68b05e188e51",
   "metadata": {},
   "source": [
    "EXCEPTION HANDLING:\n",
    "try will check for exception if got exception then except block will execute if not got error then else part will be executed."
   ]
  },
  {
   "cell_type": "code",
   "execution_count": 4,
   "id": "d1b9f721-fdc1-4c7d-9625-1e2c6344c78c",
   "metadata": {},
   "outputs": [
    {
     "name": "stdin",
     "output_type": "stream",
     "text": [
      "enter the x cat\n"
     ]
    },
    {
     "name": "stdout",
     "output_type": "stream",
     "text": [
      "x is not integer\n"
     ]
    },
    {
     "name": "stdin",
     "output_type": "stream",
     "text": [
      "enter the x 1\n"
     ]
    },
    {
     "name": "stdout",
     "output_type": "stream",
     "text": [
      "x is 1\n"
     ]
    },
    {
     "name": "stdin",
     "output_type": "stream",
     "text": [
      "enter the x cat\n"
     ]
    },
    {
     "name": "stdout",
     "output_type": "stream",
     "text": [
      "x is not integer\n"
     ]
    },
    {
     "name": "stdin",
     "output_type": "stream",
     "text": [
      "enter the x 1\n"
     ]
    },
    {
     "name": "stdout",
     "output_type": "stream",
     "text": [
      "x is 1\n"
     ]
    }
   ],
   "source": [
    "    \n",
    "while(True):\n",
    "      try:\n",
    "          x=int(input(\"enter the x\"))\n",
    "      except ValueError:\n",
    "          print(\"x is not integer\")\n",
    "      else:\n",
    "          break\n",
    "print(f\"x is {x}\")\n",
    "\n",
    "\n",
    "#other way\n",
    "while(True):\n",
    "      try:\n",
    "          x=int(input(\"enter the x\"))\n",
    "          break\n",
    "      except ValueError:\n",
    "          print(\"x is not integer\")\n",
    "print(f\"x is {x}\")\n",
    "#return is stronger than break if a  fn has loop and in loop it has return statement it will break the loop and return value and control.        "
   ]
  },
  {
   "cell_type": "code",
   "execution_count": 5,
   "id": "90efa6cd-687e-43c4-af84-458c850ba3ff",
   "metadata": {},
   "outputs": [
    {
     "name": "stdin",
     "output_type": "stream",
     "text": [
      "What's x?  12\n"
     ]
    },
    {
     "name": "stdout",
     "output_type": "stream",
     "text": [
      "x is 12\n"
     ]
    }
   ],
   "source": [
    "def main():\n",
    "    x = get_int(\"What's x? \")\n",
    "    print(f\"x is {x}\")\n",
    "\n",
    "\n",
    "def get_int(prompt):\n",
    "    while True:\n",
    "        try:\n",
    "            return int(input(prompt))\n",
    "        except ValueError:\n",
    "            pass\n",
    "\n",
    "\n",
    "main()"
   ]
  },
  {
   "cell_type": "code",
   "execution_count": null,
   "id": "8dc3e234-922d-43a6-9ccb-268e9c334628",
   "metadata": {},
   "outputs": [],
   "source": [
    "#eval()=>work only for string expressions\n",
    "#map()\n",
    "#raise\n",
    "#round()\n",
    "#x_str = \"{:.0f}\".format(x)  x_str will be string convert it to int to use or use x_Str in \"\" during comparison example x_str==\"100\"\n",
    "while(True):\r\n",
    "    try:\r\n",
    "        x,y=map(int,input(\"Fraction: \").split(\"/\"))\r\n",
    "        if y==0:\r\n",
    "            raise ZeroDivisionError\r\n",
    "        if x>y:\r\n",
    "            raise Exception\r\n",
    "        break\r\n",
    "    except Exception as e:\r\n",
    "        pass\r\n",
    "\r\n",
    "\r\n",
    "\r\n",
    "\r\n",
    "\r\n",
    "\r\n",
    "f=round((x/y)*100)\r\n",
    "\r\n",
    "if f==100 or f==99:\r\n",
    "    print(\"F\")\r\n",
    "elif f==0 or f==1:\r\n",
    "    print(\"E\")\r\n",
    "else:\r\n",
    "    print(f,\"%\",sep=\"\")"
   ]
  },
  {
   "cell_type": "code",
   "execution_count": 1,
   "id": "cb9e780b-acb3-42dd-a4cf-a6b657870f38",
   "metadata": {},
   "outputs": [
    {
     "name": "stdin",
     "output_type": "stream",
     "text": [
      "Date:  v\n",
      "Date:  a\n",
      "Date:  3434 343 34 \n",
      "Date:  December 14, 2020\n"
     ]
    },
    {
     "name": "stdout",
     "output_type": "stream",
     "text": [
      "2020-12-14\n"
     ]
    }
   ],
   "source": [
    "#sep cannot be used with format() in print \n",
    "months=[\n",
    "    \"January\",\n",
    "    \"February\",\n",
    "    \"March\",\n",
    "    \"April\",\n",
    "    \"May\",\n",
    "    \"June\",\n",
    "    \"July\",\n",
    "    \"August\",\n",
    "    \"September\",\n",
    "    \"October\",\n",
    "    \"November\",\n",
    "    \"December\"\n",
    "]\n",
    "while(True):\n",
    "    try:\n",
    "        month,day,year=input(\"Date: \").replace(\"/\",\" \").strip().split(\" \")\n",
    "        if month.isalpha():\n",
    "            if \",\" not in day or month not in months:\n",
    "                raise ValueError\n",
    "        if month.isdigit():\n",
    "            if int(month)>12:\n",
    "                raise ValueError\n",
    "        day=day.replace(\",\",\"\")\n",
    "        if day.isalpha() or int(day)>31:\n",
    "            raise ValueError\n",
    "        break\n",
    "    except (ValueError):\n",
    "        pass\n",
    "    except Exception as e:\n",
    "        pass\n",
    "if month.isalpha():\n",
    "    month=months.index(month)+1\n",
    "print(\"{:04d}-{:02d}-{:02d}\".format(int(year), int(month),int(day)))"
   ]
  },
  {
   "cell_type": "code",
   "execution_count": 21,
   "id": "3857b469-75bc-4d71-9cb0-d6ca7556cc32",
   "metadata": {},
   "outputs": [
    {
     "name": "stdout",
     "output_type": "stream",
     "text": [
      "tails\n",
      "heads\n",
      "9\n",
      "queen\n",
      "jack\n",
      "king\n"
     ]
    }
   ],
   "source": [
    "import random\n",
    "\n",
    "coin = random.choice([\"heads\", \"tails\"])\n",
    "print(coin)\n",
    "\n",
    "\n",
    "from random import choice\n",
    "\n",
    "coin = choice([\"heads\", \"tails\"])\n",
    "print(coin)\n",
    "\n",
    "import random\n",
    "\n",
    "number = random.randint(1, 10)\n",
    "print(number)\n",
    "\n",
    "import random\n",
    "\n",
    "cards = [\"jack\", \"queen\", \"king\"]\n",
    "random.shuffle(cards)\n",
    "for card in cards:\n",
    "    print(card)"
   ]
  },
  {
   "cell_type": "code",
   "execution_count": 29,
   "id": "17ffb1b1-4acf-48bf-b223-39f02e78ea5c",
   "metadata": {},
   "outputs": [
    {
     "name": "stdout",
     "output_type": "stream",
     "text": [
      "my name is C:\\Users\\Yuvraj Singh Rathore\\AppData\\Local\\Programs\\Python\\Python311\\Lib\\site-packages\\ipykernel_launcher.py\n"
     ]
    }
   ],
   "source": [
    "import sys\n",
    "print(\"my name is\",sys.argv[0])"
   ]
  },
  {
   "cell_type": "markdown",
   "id": "df6ac6e1-996a-47d2-b477-294268e37081",
   "metadata": {},
   "source": [
    "\n",
    "In Python, the special variable __name__ is used to determine whether a Python script is being run as the main program or if it is being imported as a module into another script. When a Python script is executed, the __name__ variable is set to \"__main__\" if it is the main program being run.\n",
    "\n",
    "The if __name__ == \"__main__\": condition is often used to define code that should only run when the script is executed directly, and not when it is imported as a module into another script."
   ]
  }
 ],
 "metadata": {
  "kernelspec": {
   "display_name": "Python 3 (ipykernel)",
   "language": "python",
   "name": "python3"
  },
  "language_info": {
   "codemirror_mode": {
    "name": "ipython",
    "version": 3
   },
   "file_extension": ".py",
   "mimetype": "text/x-python",
   "name": "python",
   "nbconvert_exporter": "python",
   "pygments_lexer": "ipython3",
   "version": "3.11.5"
  }
 },
 "nbformat": 4,
 "nbformat_minor": 5
}
